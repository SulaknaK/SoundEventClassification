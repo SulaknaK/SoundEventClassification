{
 "cells": [
  {
   "cell_type": "code",
   "execution_count": 1,
   "metadata": {},
   "outputs": [],
   "source": [
    "from time import time\n",
    "\n",
    "t0 = time()"
   ]
  },
  {
   "cell_type": "code",
   "execution_count": 2,
   "metadata": {},
   "outputs": [],
   "source": [
    "import matplotlib.pyplot as plt\n",
    "import numpy as np\n",
    "import wave\n",
    "import soundfile as sf\n",
    "import os\n",
    "import librosa\n",
    "import numpy as np\n",
    "import glob\n",
    "import pandas as pd\n",
    "from sklearn.preprocessing import LabelEncoder\n",
    "from keras.utils import to_categorical\n",
    "from sklearn.model_selection import train_test_split\n",
    "from sklearn.metrics import log_loss"
   ]
  },
  {
   "cell_type": "code",
   "execution_count": 3,
   "metadata": {},
   "outputs": [],
   "source": [
    "def get_features(file_name):\n",
    "\n",
    "    if file_name: \n",
    "        X, sample_rate = sf.read(file_name, dtype='float32')\n",
    "\n",
    "    mfccs = librosa.feature.mfcc(y=X, sr=sample_rate, n_mfcc=40)\n",
    "    mfccs_scaled = np.mean(mfccs.T,axis=0)\n",
    "    return mfccs_scaled"
   ]
  },
  {
   "cell_type": "code",
   "execution_count": 4,
   "metadata": {},
   "outputs": [],
   "source": [
    "def extract_features():\n",
    "\n",
    "    sub_dirs = os.listdir('/ESC-10/audio')\n",
    "    sub_dirs.sort()\n",
    "    features_list = []\n",
    "    for label, sub_dir in enumerate(sub_dirs):  \n",
    "        for file_name in glob.glob(os.path.join('/ESC-10/audio/',sub_dir,\"*.wav\")):\n",
    "            print(\"Extracting file \", file_name)\n",
    "            try:\n",
    "                mfccs = get_features(file_name)\n",
    "            except Exception as e:\n",
    "                print(\"Extraction error\")\n",
    "                continue\n",
    "            features_list.append([mfccs,label])\n",
    "\n",
    "    features_df = pd.DataFrame(features_list,columns = ['feature','class_label'])\n",
    "    print(features_df.head())    \n",
    "    return features_df"
   ]
  },
  {
   "cell_type": "code",
   "execution_count": 5,
   "metadata": {},
   "outputs": [],
   "source": [
    "def get_numpy_array(features_df):\n",
    "\n",
    "    X = np.array(features_df.feature.tolist())\n",
    "    y = np.array(features_df.class_label.tolist())\n",
    "    le = LabelEncoder()\n",
    "    yy = to_categorical(le.fit_transform(y))\n",
    "    return X,yy,le\n",
    "\n",
    "def get_train_test(X,y):\n",
    "    \n",
    "    X_train, X_test, y_train, y_test = train_test_split(X,y,test_size = 0.2, random_state = 42)\n",
    "    return  X_train, X_test, y_train, y_test"
   ]
  },
  {
   "cell_type": "code",
   "execution_count": 6,
   "metadata": {
    "scrolled": true
   },
   "outputs": [
    {
     "name": "stdout",
     "output_type": "stream",
     "text": [
      "Extracting features..\n",
      "                                             feature  class_label\n",
      "0  [-309.30853, 88.03026, 1.5384002, 14.649376, -...            0\n",
      "1  [-309.30853, 88.03026, 1.5384002, 14.649376, -...            0\n",
      "2  [-281.61264, 103.59526, -8.473426, 7.9012995, ...            0\n",
      "3  [-281.61264, 103.59526, -8.473426, 7.9012995, ...            0\n",
      "4  [-324.52615, -3.5978088, -57.639755, 6.270338,...            0\n"
     ]
    }
   ],
   "source": [
    "print(\"Extracting features..\")\n",
    "\n",
    "features_df = extract_features()"
   ]
  },
  {
   "cell_type": "code",
   "execution_count": 7,
   "metadata": {},
   "outputs": [],
   "source": [
    "from keras.models import Sequential\n",
    "from keras.layers import Dense, Dropout, Activation, Flatten\n",
    "from keras.layers import Conv1D, GlobalAveragePooling1D, MaxPooling1D\n",
    "from keras.models import load_model"
   ]
  },
  {
   "cell_type": "code",
   "execution_count": 8,
   "metadata": {},
   "outputs": [],
   "source": [
    "def create_cnn(num_labels):\n",
    "\n",
    "    model = Sequential()\n",
    "    model.add(Conv1D(64, 3, activation='relu', input_shape=(40, 1)))\n",
    "    model.add(Conv1D(64, 3, activation='relu'))\n",
    "    model.add(MaxPooling1D(3))\n",
    "    model.add(Conv1D(128, 3, activation='relu'))\n",
    "    model.add(Conv1D(128, 3, activation='relu'))\n",
    "    model.add(GlobalAveragePooling1D())\n",
    "    model.add(Dropout(0.5))\n",
    "    model.add(Dense(num_labels))\n",
    "    model.add(Activation('softmax'))\n",
    "    \n",
    "    return model"
   ]
  },
  {
   "cell_type": "code",
   "execution_count": 9,
   "metadata": {},
   "outputs": [],
   "source": [
    "def train(model,X_train, X_test, y_train, y_test,model_file):    \n",
    "    \n",
    "    model.compile(loss = 'categorical_crossentropy',metrics=['accuracy'],optimizer='adam')\n",
    "\n",
    "    print(model.summary())\n",
    "\n",
    "    print(\"training for 100 epochs with batch size 32\")\n",
    "   \n",
    "    history = model.fit(X_train,y_train,batch_size= 32, epochs = 50, validation_data=(X_test,y_test))\n",
    "    \n",
    "    print(\"Saving model to disk\")\n",
    "    model.save(model_file)\n",
    "    return history\n",
    "\n",
    "def compute(X_test,y_test,model_file):\n",
    "\n",
    "    loaded_model = load_model(model_file)\n",
    "    score = loaded_model.evaluate(X_test,y_test)\n",
    "    return score[0],score[1]*100\n"
   ]
  },
  {
   "cell_type": "code",
   "execution_count": 10,
   "metadata": {},
   "outputs": [],
   "source": [
    "def predict(filename,le,model_file):\n",
    "\n",
    "    model = load_model(model_file)\n",
    "    prediction_feature = get_features(filename)\n",
    "    if model_file == \"trained_new.h5\":    \n",
    "        prediction_feature = np.expand_dims(np.array([prediction_feature]),axis=2)\n",
    "\n",
    "    predicted_vector = model.predict_classes(prediction_feature)\n",
    "    predicted_class = le.inverse_transform(predicted_vector)\n",
    "    print(\"Predicted class\",predicted_class[0])\n",
    "    if predicted_class[0] == 0:\n",
    "        print(\"Baby cry\")\n",
    "    elif predicted_class[0] == 1:\n",
    "        print(\"Clock alarm\")\n",
    "    elif predicted_class[0] == 2:\n",
    "        print(\"Glass breaking\")\n",
    "    elif predicted_class[0] == 3:\n",
    "        print(\"Tap open\")\n",
    "    elif predicted_class[0] == 4:\n",
    "        print(\"Door knock\")\n",
    "\n",
    "        \n",
    "    predicted_proba_vector = model.predict([prediction_feature])\n",
    "\n",
    "    predicted_proba = predicted_proba_vector[0]\n",
    "    for i in range(len(predicted_proba)): \n",
    "        category = le.inverse_transform(np.array([i]))\n",
    "        print(category[0], \"\\t\\t : \", format(predicted_proba[i], '.32f') )"
   ]
  },
  {
   "cell_type": "code",
   "execution_count": 11,
   "metadata": {},
   "outputs": [],
   "source": [
    "X, y, le = get_numpy_array(features_df)"
   ]
  },
  {
   "cell_type": "code",
   "execution_count": 12,
   "metadata": {},
   "outputs": [],
   "source": [
    "X_train, X_test, y_train, y_test = get_train_test(X,y)\n",
    "num_labels = y.shape[1]"
   ]
  },
  {
   "cell_type": "code",
   "execution_count": 13,
   "metadata": {},
   "outputs": [],
   "source": [
    "X_train = np.expand_dims(X_train, axis=2)\n",
    "X_test = np.expand_dims(X_test, axis=2)"
   ]
  },
  {
   "cell_type": "code",
   "execution_count": 14,
   "metadata": {},
   "outputs": [],
   "source": [
    "model = create_cnn(num_labels)"
   ]
  },
  {
   "cell_type": "code",
   "execution_count": 15,
   "metadata": {},
   "outputs": [
    {
     "name": "stdout",
     "output_type": "stream",
     "text": [
      "Training..\n",
      "Model: \"sequential\"\n",
      "_________________________________________________________________\n",
      "Layer (type)                 Output Shape              Param #   \n",
      "=================================================================\n",
      "conv1d (Conv1D)              (None, 255, 64)           256       \n",
      "_________________________________________________________________\n",
      "conv1d_1 (Conv1D)            (None, 253, 64)           12352     \n",
      "_________________________________________________________________\n",
      "max_pooling1d (MaxPooling1D) (None, 84, 64)            0         \n",
      "_________________________________________________________________\n",
      "conv1d_2 (Conv1D)            (None, 82, 128)           24704     \n",
      "_________________________________________________________________\n",
      "conv1d_3 (Conv1D)            (None, 80, 128)           49280     \n",
      "_________________________________________________________________\n",
      "global_average_pooling1d (Gl (None, 128)               0         \n",
      "_________________________________________________________________\n",
      "dropout (Dropout)            (None, 128)               0         \n",
      "_________________________________________________________________\n",
      "dense (Dense)                (None, 5)                 645       \n",
      "_________________________________________________________________\n",
      "activation (Activation)      (None, 5)                 0         \n",
      "=================================================================\n",
      "Total params: 87,237\n",
      "Trainable params: 87,237\n",
      "Non-trainable params: 0\n",
      "_________________________________________________________________\n",
      "None\n",
      "training for 100 epochs with batch size 32\n",
      "Epoch 1/100\n",
      "WARNING:tensorflow:Model was constructed with shape (None, 257, 1) for input KerasTensor(type_spec=TensorSpec(shape=(None, 257, 1), dtype=tf.float32, name='conv1d_input'), name='conv1d_input', description=\"created by layer 'conv1d_input'\"), but it was called on an input with incompatible shape (32, 40, 1).\n",
      "WARNING:tensorflow:Model was constructed with shape (None, 257, 1) for input KerasTensor(type_spec=TensorSpec(shape=(None, 257, 1), dtype=tf.float32, name='conv1d_input'), name='conv1d_input', description=\"created by layer 'conv1d_input'\"), but it was called on an input with incompatible shape (32, 40, 1).\n",
      "15/15 [==============================] - ETA: 0s - loss: 1.4219 - accuracy: 0.3462WARNING:tensorflow:Model was constructed with shape (None, 257, 1) for input KerasTensor(type_spec=TensorSpec(shape=(None, 257, 1), dtype=tf.float32, name='conv1d_input'), name='conv1d_input', description=\"created by layer 'conv1d_input'\"), but it was called on an input with incompatible shape (None, 40, 1).\n",
      "15/15 [==============================] - 3s 119ms/step - loss: 1.4125 - accuracy: 0.3510 - val_loss: 0.9000 - val_accuracy: 0.7250\n",
      "Epoch 2/100\n",
      "15/15 [==============================] - 0s 11ms/step - loss: 0.8687 - accuracy: 0.6983 - val_loss: 0.5546 - val_accuracy: 0.8167\n",
      "Epoch 3/100\n",
      "15/15 [==============================] - 0s 12ms/step - loss: 0.6425 - accuracy: 0.7112 - val_loss: 0.4049 - val_accuracy: 0.8417\n",
      "Epoch 4/100\n",
      "15/15 [==============================] - 0s 13ms/step - loss: 0.5115 - accuracy: 0.7979 - val_loss: 0.3540 - val_accuracy: 0.8667\n",
      "Epoch 5/100\n",
      "15/15 [==============================] - 0s 14ms/step - loss: 0.3913 - accuracy: 0.8551 - val_loss: 0.3546 - val_accuracy: 0.8583\n",
      "Epoch 6/100\n",
      "15/15 [==============================] - 0s 14ms/step - loss: 0.3379 - accuracy: 0.8749 - val_loss: 0.2761 - val_accuracy: 0.9000\n",
      "Epoch 7/100\n",
      "15/15 [==============================] - 0s 14ms/step - loss: 0.2883 - accuracy: 0.8969 - val_loss: 0.3534 - val_accuracy: 0.8750\n",
      "Epoch 8/100\n",
      "15/15 [==============================] - 0s 15ms/step - loss: 0.2876 - accuracy: 0.8953 - val_loss: 0.2488 - val_accuracy: 0.8917\n",
      "Epoch 9/100\n",
      "15/15 [==============================] - 0s 14ms/step - loss: 0.2264 - accuracy: 0.9132 - val_loss: 0.2197 - val_accuracy: 0.9000\n",
      "Epoch 10/100\n",
      "15/15 [==============================] - 0s 14ms/step - loss: 0.2149 - accuracy: 0.9206 - val_loss: 0.2169 - val_accuracy: 0.9083\n",
      "Epoch 11/100\n",
      "15/15 [==============================] - 0s 15ms/step - loss: 0.1796 - accuracy: 0.9364 - val_loss: 0.1916 - val_accuracy: 0.9000\n",
      "Epoch 12/100\n",
      "15/15 [==============================] - 0s 14ms/step - loss: 0.1810 - accuracy: 0.9308 - val_loss: 0.1715 - val_accuracy: 0.9250\n",
      "Epoch 13/100\n",
      "15/15 [==============================] - 0s 15ms/step - loss: 0.1699 - accuracy: 0.9379 - val_loss: 0.2498 - val_accuracy: 0.8917\n",
      "Epoch 14/100\n",
      "15/15 [==============================] - 0s 15ms/step - loss: 0.1844 - accuracy: 0.9516 - val_loss: 0.1496 - val_accuracy: 0.9333\n",
      "Epoch 15/100\n",
      "15/15 [==============================] - 0s 15ms/step - loss: 0.1596 - accuracy: 0.9281 - val_loss: 0.1809 - val_accuracy: 0.9167\n",
      "Epoch 16/100\n",
      "15/15 [==============================] - 0s 15ms/step - loss: 0.1363 - accuracy: 0.9522 - val_loss: 0.1924 - val_accuracy: 0.9000\n",
      "Epoch 17/100\n",
      "15/15 [==============================] - 0s 15ms/step - loss: 0.1296 - accuracy: 0.9610 - val_loss: 0.1152 - val_accuracy: 0.9500\n",
      "Epoch 18/100\n",
      "15/15 [==============================] - 0s 15ms/step - loss: 0.1568 - accuracy: 0.9480 - val_loss: 0.1590 - val_accuracy: 0.9333\n",
      "Epoch 19/100\n",
      "15/15 [==============================] - 0s 15ms/step - loss: 0.1502 - accuracy: 0.9591 - val_loss: 0.1155 - val_accuracy: 0.9583\n",
      "Epoch 20/100\n",
      "15/15 [==============================] - 0s 17ms/step - loss: 0.0972 - accuracy: 0.9789 - val_loss: 0.1363 - val_accuracy: 0.9333\n",
      "Epoch 21/100\n",
      "15/15 [==============================] - 0s 15ms/step - loss: 0.0833 - accuracy: 0.9801 - val_loss: 0.1230 - val_accuracy: 0.9583\n",
      "Epoch 22/100\n",
      "15/15 [==============================] - 0s 14ms/step - loss: 0.1098 - accuracy: 0.9711 - val_loss: 0.1249 - val_accuracy: 0.9417\n",
      "Epoch 23/100\n",
      "15/15 [==============================] - 0s 13ms/step - loss: 0.0745 - accuracy: 0.9708 - val_loss: 0.1841 - val_accuracy: 0.9333\n",
      "Epoch 24/100\n",
      "15/15 [==============================] - 0s 13ms/step - loss: 0.1346 - accuracy: 0.9590 - val_loss: 0.1105 - val_accuracy: 0.9500\n",
      "Epoch 25/100\n",
      "15/15 [==============================] - 0s 13ms/step - loss: 0.0782 - accuracy: 0.9674 - val_loss: 0.1106 - val_accuracy: 0.9583\n",
      "Epoch 26/100\n",
      "15/15 [==============================] - 0s 13ms/step - loss: 0.0723 - accuracy: 0.9776 - val_loss: 0.1054 - val_accuracy: 0.9583\n",
      "Epoch 27/100\n",
      "15/15 [==============================] - 0s 13ms/step - loss: 0.0648 - accuracy: 0.9755 - val_loss: 0.0984 - val_accuracy: 0.9667\n",
      "Epoch 28/100\n",
      "15/15 [==============================] - 0s 14ms/step - loss: 0.0502 - accuracy: 0.9900 - val_loss: 0.1112 - val_accuracy: 0.9667\n",
      "Epoch 29/100\n",
      "15/15 [==============================] - 0s 14ms/step - loss: 0.0626 - accuracy: 0.9765 - val_loss: 0.1011 - val_accuracy: 0.9583\n",
      "Epoch 30/100\n",
      "15/15 [==============================] - 0s 15ms/step - loss: 0.0636 - accuracy: 0.9833 - val_loss: 0.0997 - val_accuracy: 0.9583\n",
      "Epoch 31/100\n",
      "15/15 [==============================] - 0s 13ms/step - loss: 0.0762 - accuracy: 0.9703 - val_loss: 0.0976 - val_accuracy: 0.9667\n",
      "Epoch 32/100\n",
      "15/15 [==============================] - 0s 14ms/step - loss: 0.0560 - accuracy: 0.9825 - val_loss: 0.0858 - val_accuracy: 0.9667\n",
      "Epoch 33/100\n",
      "15/15 [==============================] - 0s 14ms/step - loss: 0.0512 - accuracy: 0.9780 - val_loss: 0.1058 - val_accuracy: 0.9750\n",
      "Epoch 34/100\n",
      "15/15 [==============================] - 0s 16ms/step - loss: 0.0482 - accuracy: 0.9747 - val_loss: 0.1427 - val_accuracy: 0.9500\n",
      "Epoch 35/100\n",
      "15/15 [==============================] - 0s 16ms/step - loss: 0.0423 - accuracy: 0.9889 - val_loss: 0.1133 - val_accuracy: 0.9583\n",
      "Epoch 36/100\n",
      "15/15 [==============================] - 0s 14ms/step - loss: 0.0332 - accuracy: 0.9954 - val_loss: 0.1106 - val_accuracy: 0.9583\n",
      "Epoch 37/100\n",
      "15/15 [==============================] - 0s 14ms/step - loss: 0.0574 - accuracy: 0.9712 - val_loss: 0.0898 - val_accuracy: 0.9750\n",
      "Epoch 38/100\n",
      "15/15 [==============================] - 0s 13ms/step - loss: 0.0412 - accuracy: 0.9774 - val_loss: 0.1156 - val_accuracy: 0.9667\n",
      "Epoch 39/100\n",
      "15/15 [==============================] - 0s 13ms/step - loss: 0.0476 - accuracy: 0.9804 - val_loss: 0.1029 - val_accuracy: 0.9583\n",
      "Epoch 40/100\n",
      "15/15 [==============================] - 0s 14ms/step - loss: 0.0239 - accuracy: 0.9978 - val_loss: 0.0910 - val_accuracy: 0.9667\n",
      "Epoch 41/100\n",
      "15/15 [==============================] - 0s 14ms/step - loss: 0.0231 - accuracy: 0.9921 - val_loss: 0.1003 - val_accuracy: 0.9583\n",
      "Epoch 42/100\n",
      "15/15 [==============================] - 0s 14ms/step - loss: 0.0307 - accuracy: 0.9896 - val_loss: 0.0978 - val_accuracy: 0.9667\n",
      "Epoch 43/100\n",
      "15/15 [==============================] - 0s 13ms/step - loss: 0.0455 - accuracy: 0.9854 - val_loss: 0.1495 - val_accuracy: 0.9417\n",
      "Epoch 44/100\n",
      "15/15 [==============================] - 0s 14ms/step - loss: 0.0504 - accuracy: 0.9751 - val_loss: 0.0854 - val_accuracy: 0.9750\n",
      "Epoch 45/100\n",
      "15/15 [==============================] - 0s 14ms/step - loss: 0.0283 - accuracy: 0.9944 - val_loss: 0.1027 - val_accuracy: 0.9583\n",
      "Epoch 46/100\n",
      "15/15 [==============================] - 0s 13ms/step - loss: 0.0378 - accuracy: 0.9912 - val_loss: 0.1090 - val_accuracy: 0.9667\n",
      "Epoch 47/100\n",
      "15/15 [==============================] - 0s 14ms/step - loss: 0.0190 - accuracy: 0.9975 - val_loss: 0.0725 - val_accuracy: 0.9833\n",
      "Epoch 48/100\n",
      "15/15 [==============================] - 0s 13ms/step - loss: 0.0108 - accuracy: 0.9970 - val_loss: 0.0736 - val_accuracy: 0.9833\n",
      "Epoch 49/100\n",
      "15/15 [==============================] - 0s 13ms/step - loss: 0.0096 - accuracy: 0.9997 - val_loss: 0.0841 - val_accuracy: 0.9667\n",
      "Epoch 50/100\n",
      "15/15 [==============================] - 0s 13ms/step - loss: 0.0087 - accuracy: 0.9989 - val_loss: 0.1114 - val_accuracy: 0.9667\n",
      "Epoch 51/100\n",
      "15/15 [==============================] - 0s 14ms/step - loss: 0.0219 - accuracy: 0.9946 - val_loss: 0.0934 - val_accuracy: 0.9667\n",
      "Epoch 52/100\n",
      "15/15 [==============================] - 0s 13ms/step - loss: 0.0144 - accuracy: 0.9980 - val_loss: 0.0780 - val_accuracy: 0.9833\n",
      "Epoch 53/100\n",
      "15/15 [==============================] - 0s 14ms/step - loss: 0.0108 - accuracy: 1.0000 - val_loss: 0.0971 - val_accuracy: 0.9750\n",
      "Epoch 54/100\n",
      "15/15 [==============================] - 0s 14ms/step - loss: 0.0142 - accuracy: 0.9989 - val_loss: 0.0850 - val_accuracy: 0.9750\n",
      "Epoch 55/100\n",
      "15/15 [==============================] - 0s 13ms/step - loss: 0.0111 - accuracy: 0.9945 - val_loss: 0.1182 - val_accuracy: 0.9583\n",
      "Epoch 56/100\n",
      "15/15 [==============================] - 0s 13ms/step - loss: 0.0108 - accuracy: 0.9980 - val_loss: 0.1227 - val_accuracy: 0.9750\n",
      "Epoch 57/100\n",
      "15/15 [==============================] - 0s 13ms/step - loss: 0.0069 - accuracy: 0.9996 - val_loss: 0.0899 - val_accuracy: 0.9583\n",
      "Epoch 58/100\n",
      "15/15 [==============================] - 0s 14ms/step - loss: 0.0189 - accuracy: 0.9935 - val_loss: 0.1165 - val_accuracy: 0.9750\n",
      "Epoch 59/100\n",
      "15/15 [==============================] - 0s 13ms/step - loss: 0.0338 - accuracy: 0.9803 - val_loss: 0.2639 - val_accuracy: 0.9333\n",
      "Epoch 60/100\n",
      "15/15 [==============================] - 0s 13ms/step - loss: 0.0886 - accuracy: 0.9826 - val_loss: 0.1011 - val_accuracy: 0.9750\n",
      "Epoch 61/100\n",
      "15/15 [==============================] - 0s 13ms/step - loss: 0.0488 - accuracy: 0.9908 - val_loss: 0.3418 - val_accuracy: 0.9333\n",
      "Epoch 62/100\n",
      "15/15 [==============================] - 0s 13ms/step - loss: 0.0509 - accuracy: 0.9775 - val_loss: 0.2632 - val_accuracy: 0.9250\n",
      "Epoch 63/100\n",
      "15/15 [==============================] - 0s 13ms/step - loss: 0.1016 - accuracy: 0.9659 - val_loss: 0.1260 - val_accuracy: 0.9667\n",
      "Epoch 64/100\n",
      "15/15 [==============================] - 0s 13ms/step - loss: 0.0372 - accuracy: 0.9834 - val_loss: 0.0600 - val_accuracy: 0.9667\n",
      "Epoch 65/100\n",
      "15/15 [==============================] - 0s 15ms/step - loss: 0.0218 - accuracy: 0.9949 - val_loss: 0.1099 - val_accuracy: 0.9583\n",
      "Epoch 66/100\n",
      "15/15 [==============================] - 0s 14ms/step - loss: 0.0082 - accuracy: 0.9987 - val_loss: 0.0746 - val_accuracy: 0.9750\n",
      "Epoch 67/100\n",
      "15/15 [==============================] - 0s 15ms/step - loss: 0.0098 - accuracy: 1.0000 - val_loss: 0.0907 - val_accuracy: 0.9667\n",
      "Epoch 68/100\n",
      "15/15 [==============================] - 0s 15ms/step - loss: 0.0064 - accuracy: 0.9997 - val_loss: 0.0839 - val_accuracy: 0.9667\n",
      "Epoch 69/100\n",
      "15/15 [==============================] - 0s 15ms/step - loss: 0.0097 - accuracy: 0.9963 - val_loss: 0.0869 - val_accuracy: 0.9583\n",
      "Epoch 70/100\n",
      "15/15 [==============================] - 0s 14ms/step - loss: 0.0132 - accuracy: 0.9994 - val_loss: 0.1112 - val_accuracy: 0.9500\n",
      "Epoch 71/100\n",
      "15/15 [==============================] - 0s 16ms/step - loss: 0.0229 - accuracy: 0.9953 - val_loss: 0.0917 - val_accuracy: 0.9583\n",
      "Epoch 72/100\n",
      "15/15 [==============================] - 0s 16ms/step - loss: 0.0048 - accuracy: 0.9993 - val_loss: 0.0806 - val_accuracy: 0.9750\n",
      "Epoch 73/100\n",
      "15/15 [==============================] - 0s 15ms/step - loss: 0.0094 - accuracy: 1.0000 - val_loss: 0.0940 - val_accuracy: 0.9667\n",
      "Epoch 74/100\n",
      "15/15 [==============================] - 0s 13ms/step - loss: 0.0042 - accuracy: 1.0000 - val_loss: 0.0912 - val_accuracy: 0.9667\n",
      "Epoch 75/100\n",
      "15/15 [==============================] - 0s 11ms/step - loss: 0.0051 - accuracy: 0.9985 - val_loss: 0.0964 - val_accuracy: 0.9750\n",
      "Epoch 76/100\n",
      "15/15 [==============================] - 0s 12ms/step - loss: 0.0193 - accuracy: 0.9931 - val_loss: 0.1133 - val_accuracy: 0.9583\n",
      "Epoch 77/100\n",
      "15/15 [==============================] - ETA: 0s - loss: 0.0253 - accuracy: 0.9951 - 0s 13ms/step - loss: 0.0257 - accuracy: 0.9950 - val_loss: 0.1329 - val_accuracy: 0.9667\n",
      "Epoch 78/100\n",
      "15/15 [==============================] - 0s 13ms/step - loss: 0.0201 - accuracy: 0.9924 - val_loss: 0.1263 - val_accuracy: 0.9667\n",
      "Epoch 79/100\n",
      "15/15 [==============================] - 0s 13ms/step - loss: 0.0063 - accuracy: 1.0000 - val_loss: 0.1111 - val_accuracy: 0.9833\n",
      "Epoch 80/100\n",
      "15/15 [==============================] - 0s 13ms/step - loss: 0.0175 - accuracy: 0.9904 - val_loss: 0.0924 - val_accuracy: 0.9833\n",
      "Epoch 81/100\n",
      "15/15 [==============================] - 0s 14ms/step - loss: 0.0050 - accuracy: 0.9989 - val_loss: 0.1058 - val_accuracy: 0.9667\n",
      "Epoch 82/100\n",
      "15/15 [==============================] - 0s 13ms/step - loss: 0.0030 - accuracy: 1.0000 - val_loss: 0.0933 - val_accuracy: 0.9833\n",
      "Epoch 83/100\n",
      "15/15 [==============================] - 0s 14ms/step - loss: 0.0089 - accuracy: 1.0000 - val_loss: 0.1136 - val_accuracy: 0.9583\n",
      "Epoch 84/100\n",
      "15/15 [==============================] - 0s 14ms/step - loss: 0.0066 - accuracy: 1.0000 - val_loss: 0.0917 - val_accuracy: 0.9833\n",
      "Epoch 85/100\n",
      "15/15 [==============================] - 0s 13ms/step - loss: 0.0118 - accuracy: 0.9963 - val_loss: 0.1067 - val_accuracy: 0.9750\n",
      "Epoch 86/100\n",
      "15/15 [==============================] - 0s 13ms/step - loss: 0.0053 - accuracy: 1.0000 - val_loss: 0.1194 - val_accuracy: 0.9583\n",
      "Epoch 87/100\n",
      "15/15 [==============================] - 0s 13ms/step - loss: 0.0032 - accuracy: 0.9985 - val_loss: 0.1078 - val_accuracy: 0.9667\n",
      "Epoch 88/100\n",
      "15/15 [==============================] - 0s 13ms/step - loss: 0.0036 - accuracy: 1.0000 - val_loss: 0.1059 - val_accuracy: 0.9833\n",
      "Epoch 89/100\n",
      "15/15 [==============================] - 0s 14ms/step - loss: 0.0025 - accuracy: 1.0000 - val_loss: 0.1243 - val_accuracy: 0.9500\n",
      "Epoch 90/100\n",
      "15/15 [==============================] - 0s 14ms/step - loss: 0.0099 - accuracy: 0.9927 - val_loss: 0.1636 - val_accuracy: 0.9667\n",
      "Epoch 91/100\n",
      "15/15 [==============================] - 0s 14ms/step - loss: 0.0146 - accuracy: 0.9921 - val_loss: 0.1084 - val_accuracy: 0.9750\n",
      "Epoch 92/100\n",
      "15/15 [==============================] - 0s 14ms/step - loss: 0.0073 - accuracy: 0.9980 - val_loss: 0.1326 - val_accuracy: 0.9750\n",
      "Epoch 93/100\n",
      "15/15 [==============================] - 0s 14ms/step - loss: 0.0127 - accuracy: 0.9957 - val_loss: 0.1205 - val_accuracy: 0.9667\n",
      "Epoch 94/100\n",
      "15/15 [==============================] - 0s 14ms/step - loss: 0.0043 - accuracy: 1.0000 - val_loss: 0.1836 - val_accuracy: 0.9667\n",
      "Epoch 95/100\n",
      "15/15 [==============================] - 0s 13ms/step - loss: 0.0106 - accuracy: 0.9948 - val_loss: 0.1284 - val_accuracy: 0.9417\n",
      "Epoch 96/100\n",
      "15/15 [==============================] - 0s 14ms/step - loss: 0.0058 - accuracy: 1.0000 - val_loss: 0.1513 - val_accuracy: 0.9667\n",
      "Epoch 97/100\n",
      "15/15 [==============================] - 0s 14ms/step - loss: 0.0041 - accuracy: 0.9985 - val_loss: 0.1432 - val_accuracy: 0.9583\n",
      "Epoch 98/100\n",
      "15/15 [==============================] - 0s 13ms/step - loss: 0.0030 - accuracy: 1.0000 - val_loss: 0.1088 - val_accuracy: 0.9833\n",
      "Epoch 99/100\n",
      "15/15 [==============================] - 0s 13ms/step - loss: 0.0019 - accuracy: 1.0000 - val_loss: 0.1150 - val_accuracy: 0.9667\n",
      "Epoch 100/100\n",
      "15/15 [==============================] - 0s 13ms/step - loss: 0.0020 - accuracy: 1.0000 - val_loss: 0.1291 - val_accuracy: 0.9667\n",
      "Saving model to disk\n"
     ]
    }
   ],
   "source": [
    "print(\"Training..\")\n",
    "history = train(model,X_train, X_test, y_train, y_test,\"trained_new.h5\")"
   ]
  },
  {
   "cell_type": "code",
   "execution_count": 16,
   "metadata": {},
   "outputs": [
    {
     "name": "stdout",
     "output_type": "stream",
     "text": [
      "WARNING:tensorflow:Model was constructed with shape (None, 257, 1) for input KerasTensor(type_spec=TensorSpec(shape=(None, 257, 1), dtype=tf.float32, name='conv1d_input'), name='conv1d_input', description=\"created by layer 'conv1d_input'\"), but it was called on an input with incompatible shape (None, 40, 1).\n",
      "4/4 [==============================] - 0s 3ms/step - loss: 0.1291 - accuracy: 0.9667\n",
      "Test loss 0.12914779782295227\n",
      "Test accuracy 96.66666388511658\n",
      "time taken : 43.034138441085815\n"
     ]
    }
   ],
   "source": [
    "test_loss, test_accuracy = compute(X_test,y_test,\"trained_new.h5\")\n",
    "print(\"Test loss\",test_loss)\n",
    "print(\"Test accuracy\",test_accuracy)\n",
    "print(\"time taken :\", time() - t0)"
   ]
  },
  {
   "cell_type": "code",
   "execution_count": 18,
   "metadata": {},
   "outputs": [
    {
     "name": "stdout",
     "output_type": "stream",
     "text": [
      "WARNING:tensorflow:Model was constructed with shape (None, 257, 1) for input KerasTensor(type_spec=TensorSpec(shape=(None, 257, 1), dtype=tf.float32, name='conv1d_input'), name='conv1d_input', description=\"created by layer 'conv1d_input'\"), but it was called on an input with incompatible shape (None, 40, 1).\n"
     ]
    },
    {
     "name": "stderr",
     "output_type": "stream",
     "text": [
      "lib\\site-packages\\tensorflow\\python\\keras\\engine\\sequential.py:450: UserWarning: `model.predict_classes()` is deprecated and will be removed after 2021-01-01. Please use instead:* `np.argmax(model.predict(x), axis=-1)`,   if your model does multi-class classification   (e.g. if it uses a `softmax` last-layer activation).* `(model.predict(x) > 0.5).astype(\"int32\")`,   if your model does binary classification   (e.g. if it uses a `sigmoid` last-layer activation).\n",
      "  warnings.warn('`model.predict_classes()` is deprecated and '\n"
     ]
    },
    {
     "name": "stdout",
     "output_type": "stream",
     "text": [
      "Predicted class 3\n",
      "Tap open\n",
      "WARNING:tensorflow:Model was constructed with shape (None, 257, 1) for input KerasTensor(type_spec=TensorSpec(shape=(None, 257, 1), dtype=tf.float32, name='conv1d_input'), name='conv1d_input', description=\"created by layer 'conv1d_input'\"), but it was called on an input with incompatible shape (None, 40, 1).\n",
      "0 \t\t :  0.00000005175124684342335967812687\n",
      "1 \t\t :  0.00000000000017072607704730208278\n",
      "2 \t\t :  0.00000000000000000000949426032523\n",
      "3 \t\t :  1.00000000000000000000000000000000\n",
      "4 \t\t :  0.00000000000000000000082032199079\n"
     ]
    }
   ],
   "source": [
    "predict(\"/audio/5 - Tap open/1-51436-A-17.wav\",le,\"trained_new.h5\")"
   ]
  },
  {
   "cell_type": "code",
   "execution_count": 19,
   "metadata": {},
   "outputs": [
    {
     "name": "stdout",
     "output_type": "stream",
     "text": [
      "WARNING:tensorflow:Model was constructed with shape (None, 257, 1) for input KerasTensor(type_spec=TensorSpec(shape=(None, 257, 1), dtype=tf.float32, name='conv1d_input'), name='conv1d_input', description=\"created by layer 'conv1d_input'\"), but it was called on an input with incompatible shape (None, 40, 1).\n",
      "Predicted class 4\n",
      "Door knock\n",
      "WARNING:tensorflow:Model was constructed with shape (None, 257, 1) for input KerasTensor(type_spec=TensorSpec(shape=(None, 257, 1), dtype=tf.float32, name='conv1d_input'), name='conv1d_input', description=\"created by layer 'conv1d_input'\"), but it was called on an input with incompatible shape (None, 40, 1).\n",
      "0 \t\t :  0.00000000000000000001522547247998\n",
      "1 \t\t :  0.00000000000000000000000000571676\n",
      "2 \t\t :  0.00000000000000000000000455172348\n",
      "3 \t\t :  0.00000000000000000001455881660505\n",
      "4 \t\t :  1.00000000000000000000000000000000\n"
     ]
    }
   ],
   "source": [
    "predict(\"/audio/1 - Dog barking/1-30226-A-0.wav\",le,\"trained_new.h5\")"
   ]
  },
  {
   "cell_type": "code",
   "execution_count": 21,
   "metadata": {},
   "outputs": [
    {
     "name": "stdout",
     "output_type": "stream",
     "text": [
      "WARNING:tensorflow:Model was constructed with shape (None, 257, 1) for input KerasTensor(type_spec=TensorSpec(shape=(None, 257, 1), dtype=tf.float32, name='conv1d_input'), name='conv1d_input', description=\"created by layer 'conv1d_input'\"), but it was called on an input with incompatible shape (None, 40, 1).\n",
      "WARNING:tensorflow:5 out of the last 5 calls to <function Model.make_predict_function.<locals>.predict_function at 0x000001F9E49763A0> triggered tf.function retracing. Tracing is expensive and the excessive number of tracings could be due to (1) creating @tf.function repeatedly in a loop, (2) passing tensors with different shapes, (3) passing Python objects instead of tensors. For (1), please define your @tf.function outside of the loop. For (2), @tf.function has experimental_relax_shapes=True option that relaxes argument shapes that can avoid unnecessary retracing. For (3), please refer to https://www.tensorflow.org/guide/function#controlling_retracing and https://www.tensorflow.org/api_docs/python/tf/function for  more details.\n",
      "[[27  0  0  1  0]\n",
      " [ 0 24  0  0  0]\n",
      " [ 0  0 19  0  0]\n",
      " [ 1  0  2 20  0]\n",
      " [ 0  0  0  0 26]]\n"
     ]
    }
   ],
   "source": [
    "import sklearn\n",
    "from sklearn.model_selection import train_test_split\n",
    "import numpy as np\n",
    "import matplotlib.pyplot as plt\n",
    "from sklearn.metrics import confusion_matrix\n",
    "\n",
    "y_pred=model.predict(X_test) \n",
    "y_pred=np.argmax(y_pred, axis=1)\n",
    "y_test=np.argmax(y_test, axis=1)\n",
    "cm = confusion_matrix(y_test, y_pred)\n",
    "print(cm)"
   ]
  },
  {
   "cell_type": "code",
   "execution_count": 22,
   "metadata": {},
   "outputs": [
    {
     "name": "stdout",
     "output_type": "stream",
     "text": [
      "\n",
      "Classification Report\n",
      "\n",
      "                precision    recall  f1-score   support\n",
      "\n",
      "      Baby cry       0.96      0.96      0.96        28\n",
      "   Clock Alarm       1.00      1.00      1.00        24\n",
      "Glass breaking       0.90      1.00      0.95        19\n",
      "      Tap open       0.95      0.87      0.91        23\n",
      "    Door knock       1.00      1.00      1.00        26\n",
      "\n",
      "      accuracy                           0.97       120\n",
      "     macro avg       0.96      0.97      0.96       120\n",
      "  weighted avg       0.97      0.97      0.97       120\n",
      "\n"
     ]
    }
   ],
   "source": [
    "from sklearn.metrics import classification_report\n",
    "print('\\nClassification Report\\n')\n",
    "print(classification_report(y_test, y_pred, target_names=['Baby cry','Clock Alarm', 'Glass breaking','Tap open','Door knock']))"
   ]
  },
  {
   "cell_type": "code",
   "execution_count": 24,
   "metadata": {},
   "outputs": [
    {
     "data": {
      "image/png": "[encoded data removed]",
      "text/plain": [
       "<Figure size 432x288 with 2 Axes>"
      ]
     },
     "metadata": {},
     "output_type": "display_data"
    }
   ],
   "source": [
    "import seaborn as sn\n",
    "import pandas as pd\n",
    "import matplotlib.pyplot as plt\n",
    "\n",
    "array = [[27,  0,  0,  1,  0],\n",
    " [ 0,  24,  0,  0,  0],\n",
    " [ 0,  0,  19,  0,  0],\n",
    " [ 1,  0,  2, 20,  0],\n",
    " [ 0,  0,  0,  0,  26]]\n",
    "target_names=['Baby cry','Clock alarm','Glass breaking','Tap open','Door knock']\n",
    "df_cm = pd.DataFrame(array,target_names,target_names)\n",
    "sn.set(font_scale=1.0) \n",
    "sn.color_palette(\"mako\", as_cmap=True)\n",
    "sn.heatmap(df_cm, annot=True, annot_kws={\"size\": 12}) \n",
    "\n",
    "plt.show()"
   ]
  }
 ],
 "metadata": {
  "kernelspec": {
   "display_name": "Python 3 (ipykernel)",
   "language": "python",
   "name": "python3"
  },
  "language_info": {
   "codemirror_mode": {
    "name": "ipython",
    "version": 3
   },
   "file_extension": ".py",
   "mimetype": "text/x-python",
   "name": "python",
   "nbconvert_exporter": "python",
   "pygments_lexer": "ipython3",
   "version": "3.8.5"
  }
 },
 "nbformat": 4,
 "nbformat_minor": 4
}
