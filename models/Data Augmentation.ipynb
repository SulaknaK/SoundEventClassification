{
 "cells": [
  {
   "cell_type": "code",
   "execution_count": 1,
   "metadata": {},
   "outputs": [],
   "source": [
    "import librosa\n",
    "import numpy as np\n",
    "import soundfile as sf\n",
    "import os\n",
    "import glob\n"
   ]
  },
  {
   "cell_type": "code",
   "execution_count": 2,
   "metadata": {},
   "outputs": [],
   "source": [
    "def write_audio_file(file, data, sample_rate):\n",
    "    sf.write(file, data, sample_rate)"
   ]
  },
  {
   "cell_type": "code",
   "execution_count": 3,
   "metadata": {},
   "outputs": [],
   "source": [
    "def save_timeShift(filename, sub_dir,count):\n",
    "    audio_data, sample_rate = librosa.load(filename)\n",
    "    wav_roll = np.roll(audio_data,int(sample_rate/10))\n",
    "    count = str(count)\n",
    "    write_audio_file(\"ESC-10/ESC-10/audio/s15/\" + sub_dir + \"_\" + count + \".wav\", wav_roll,sample_rate)\n"
   ]
  },
  {
   "cell_type": "code",
   "execution_count": 4,
   "metadata": {},
   "outputs": [],
   "source": [
    "def save_timeStrech (filename, sub_dir,count1):\n",
    "    audio_data, sample_rate = librosa.load(filename)\n",
    "    factor = 0.4\n",
    "    count1 = str(count1)\n",
    "    wav_time_stch = librosa.effects.time_stretch(audio_data,factor)\n",
    "    write_audio_file(\"ESC-10/audio/s15/\" + sub_dir + \"_\"+count1 + \".wav\", wav_time_stch, sample_rate)\n"
   ]
  },
  {
   "cell_type": "code",
   "execution_count": 5,
   "metadata": {},
   "outputs": [],
   "source": [
    "\n",
    "count=0\n",
    "sub_dirs = os.listdir('ESC-10/audio')\n",
    "sub_dirs.sort()\n",
    "for label, sub_dir in enumerate(sub_dirs):  \n",
    "    for file_name in glob.glob(os.path.join('ESC-10/audio',sub_dir,\"*.wav\")):\n",
    "        count=count+1\n",
    "        save_timeStrech(file_name, sub_dir,count ) \n",
    "        save_timeShift(file_name, sub_dir,count )"
   ]
  },
  {
   "cell_type": "code",
   "execution_count": null,
   "metadata": {},
   "outputs": [],
   "source": []
  }
 ],
 "metadata": {
  "kernelspec": {
   "display_name": "Python 3 (ipykernel)",
   "language": "python",
   "name": "python3"
  },
  "language_info": {
   "codemirror_mode": {
    "name": "ipython",
    "version": 3
   },
   "file_extension": ".py",
   "mimetype": "text/x-python",
   "name": "python",
   "nbconvert_exporter": "python",
   "pygments_lexer": "ipython3",
   "version": "3.8.5"
  }
 },
 "nbformat": 4,
 "nbformat_minor": 4
}
