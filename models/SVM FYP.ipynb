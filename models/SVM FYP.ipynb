{
 "cells": [
  {
   "cell_type": "code",
   "execution_count": 1,
   "metadata": {},
   "outputs": [],
   "source": [
    "\n",
    "from time import time\n",
    "\n",
    "t0 = time()"
   ]
  },
  {
   "cell_type": "code",
   "execution_count": 2,
   "metadata": {},
   "outputs": [],
   "source": [
    "import matplotlib.pyplot as plt\n",
    "import numpy as np\n",
    "import wave\n",
    "import soundfile as sf\n",
    "import os\n",
    "import librosa\n",
    "import numpy as np\n",
    "import glob\n",
    "import pandas as pd\n",
    "import sklearn\n",
    "from sklearn.svm import SVC\n",
    "from sklearn.model_selection import train_test_split\n",
    "import numpy as np"
   ]
  },
  {
   "cell_type": "code",
   "execution_count": 3,
   "metadata": {},
   "outputs": [],
   "source": [
    "def get_features(file_name):\n",
    "\n",
    "    if file_name: \n",
    "        X, sample_rate = sf.read(file_name, dtype='float32')\n",
    "\n",
    "    mfccs = librosa.feature.mfcc(y=X, sr=sample_rate, n_mfcc=40)\n",
    "    mfccs_scaled = np.mean(mfccs.T,axis=0)\n",
    "    return mfccs_scaled"
   ]
  },
  {
   "cell_type": "code",
   "execution_count": 4,
   "metadata": {},
   "outputs": [],
   "source": [
    "def extract_features():\n",
    "\n",
    "    sub_dirs = os.listdir('ESC-10/audio')\n",
    "    sub_dirs.sort()\n",
    "    features_list = []\n",
    "    for label, sub_dir in enumerate(sub_dirs):  \n",
    "        for file_name in glob.glob(os.path.join('ESC-10/audio',sub_dir,\"*.wav\")):\n",
    "            print(\"Extracting file \", file_name)\n",
    "            try:\n",
    "                mfccs = get_features(file_name)\n",
    "            except Exception as e:\n",
    "                print(\"Extraction error\")\n",
    "                continue\n",
    "            features_list.append([mfccs,label])\n",
    "\n",
    "    features_df = pd.DataFrame(features_list,columns = ['feature','class_label'])\n",
    "    print(features_df.head())    \n",
    "    return features_df"
   ]
  },
  {
   "cell_type": "code",
   "execution_count": 5,
   "metadata": {},
   "outputs": [],
   "source": [
    "def get_numpy_array(features_df):\n",
    "\n",
    "    X = np.array(features_df.feature.tolist())\n",
    "    y = np.array(features_df.class_label.tolist())\n",
    "    le = LabelEncoder()\n",
    "    yy = to_categorical(le.fit_transform(y))\n",
    "    return X,yy,le\n",
    "\n",
    "def get_train_test(X,y):\n",
    "    \n",
    "    X_train, X_test, y_train, y_test = train_test_split(X,y,test_size = 0.2, random_state = 42)\n",
    "    return  X_train, X_test, y_train, y_test"
   ]
  },
  {
   "cell_type": "code",
   "execution_count": 6,
   "metadata": {},
   "outputs": [
    {
     "name": "stdout",
     "output_type": "stream",
     "text": [
      "Extracting features..\n",
      "                                             feature  class_label\n",
      "0  [-309.30853, 88.03026, 1.5384002, 14.649376, -...            0\n",
      "1  [-309.30853, 88.03026, 1.5384002, 14.649376, -...            0\n",
      "2  [-281.61264, 103.59526, -8.473426, 7.9012995, ...            0\n",
      "3  [-281.61264, 103.59526, -8.473426, 7.9012995, ...            0\n",
      "4  [-324.52615, -3.5978088, -57.639755, 6.270338,...            0\n"
     ]
    }
   ],
   "source": [
    "print(\"Extracting features..\")\n",
    "features_df = extract_features()"
   ]
  },
  {
   "cell_type": "code",
   "execution_count": 7,
   "metadata": {},
   "outputs": [],
   "source": [
    "from sklearn.model_selection import GridSearchCV\n",
    "from sklearn import svm"
   ]
  },
  {
   "cell_type": "code",
   "execution_count": 8,
   "metadata": {},
   "outputs": [],
   "source": [
    "params = {'C': (0.001,0.005,0.01,0.05,0.1,0.5,1, 10,50, 100, 1000)}"
   ]
  },
  {
   "cell_type": "code",
   "execution_count": 9,
   "metadata": {},
   "outputs": [],
   "source": [
    "clf_svm = svm.SVC(kernel = 'poly')"
   ]
  },
  {
   "cell_type": "code",
   "execution_count": 10,
   "metadata": {},
   "outputs": [],
   "source": [
    "svm_grid = GridSearchCV(clf_svm, params, cv=10, verbose = 1,n_jobs=-1,scoring ='accuracy') \n",
    "   "
   ]
  },
  {
   "cell_type": "code",
   "execution_count": 11,
   "metadata": {},
   "outputs": [
    {
     "name": "stdout",
     "output_type": "stream",
     "text": [
      "Fitting 10 folds for each of 11 candidates, totalling 110 fits\n"
     ]
    },
    {
     "name": "stderr",
     "output_type": "stream",
     "text": [
      "[Parallel(n_jobs=-1)]: Using backend LokyBackend with 8 concurrent workers.\n",
      "[Parallel(n_jobs=-1)]: Done  34 tasks      | elapsed:    7.0s\n",
      "[Parallel(n_jobs=-1)]: Done 110 out of 110 | elapsed:    7.9s finished\n"
     ]
    },
    {
     "data": {
      "text/plain": [
       "GridSearchCV(cv=10, estimator=SVC(kernel='poly'), n_jobs=-1,\n",
       "             param_grid={'C': (0.001, 0.005, 0.01, 0.05, 0.1, 0.5, 1, 10, 50,\n",
       "                               100, 1000)},\n",
       "             scoring='accuracy', verbose=1)"
      ]
     },
     "execution_count": 11,
     "metadata": {},
     "output_type": "execute_result"
    }
   ],
   "source": [
    "X = np.array(features_df.feature.tolist())\n",
    "y = np.array(features_df.class_label.tolist())\n",
    "X_train, X_test, y_train, y_test = train_test_split(X,y,test_size = 0.2, random_state = 42)\n",
    "svm_grid.fit(X_train, y_train)"
   ]
  },
  {
   "cell_type": "code",
   "execution_count": 12,
   "metadata": {},
   "outputs": [
    {
     "data": {
      "text/plain": [
       "{'C': 1000}"
      ]
     },
     "execution_count": 12,
     "metadata": {},
     "output_type": "execute_result"
    }
   ],
   "source": [
    "svm_grid.best_params_"
   ]
  },
  {
   "cell_type": "code",
   "execution_count": 14,
   "metadata": {
    "scrolled": true
   },
   "outputs": [
    {
     "name": "stdout",
     "output_type": "stream",
     "text": [
      "Accuracy 90.83333333333333\n"
     ]
    }
   ],
   "source": [
    "X = np.array(features_df.feature.tolist())\n",
    "y = np.array(features_df.class_label.tolist())\n",
    "X_train, X_test, y_train, y_test = train_test_split(X,y,test_size = 0.2, random_state = 42)\n",
    "svc1 = SVC(kernel='poly',degree=2, C=1000)\n",
    "svc1 = svc1.fit(X_train, y_train)\n",
    "acc1 = svc1.score(X_test, y_test)\n",
    "print(\"Test Accuracy\",acc1*100)"
   ]
  },
  {
   "cell_type": "code",
   "execution_count": 15,
   "metadata": {},
   "outputs": [
    {
     "name": "stdout",
     "output_type": "stream",
     "text": [
      "time taken : 20.44196081161499\n"
     ]
    }
   ],
   "source": [
    "print(\"time taken :\", time() - t0)"
   ]
  },
  {
   "cell_type": "code",
   "execution_count": 16,
   "metadata": {},
   "outputs": [
    {
     "name": "stdout",
     "output_type": "stream",
     "text": [
      "Confusion Matrix\n",
      "\n",
      "[[25  0  0  3  0]\n",
      " [ 3 17  0  4  0]\n",
      " [ 0  0 19  0  0]\n",
      " [ 0  0  1 22  0]\n",
      " [ 0  0  0  0 26]]\n"
     ]
    }
   ],
   "source": [
    "X = np.array(features_df.feature.tolist())\n",
    "y = np.array(features_df.class_label.tolist())\n",
    "X_train, X_test, y_train, y_test = train_test_split(X,y,test_size = 0.2, random_state = 42)\n",
    "svc1 = SVC(kernel='poly',degree=2, C=1000)\n",
    "svc1 = svc1.fit(X_train, y_train)\n",
    "acc1 = svc1.score(X_test, y_test)\n",
    "y_pred = svc1.predict(X_test)\n",
    "\n",
    "from sklearn.metrics import confusion_matrix\n",
    "confusion = confusion_matrix(y_test, y_pred)\n",
    "print('Confusion Matrix\\n')\n",
    "print(confusion)\n"
   ]
  },
  {
   "cell_type": "code",
   "execution_count": 19,
   "metadata": {},
   "outputs": [
    {
     "data": {
      "image/png": "[encoded data removed]",
      "text/plain": [
       "<Figure size 432x288 with 2 Axes>"
      ]
     },
     "metadata": {},
     "output_type": "display_data"
    }
   ],
   "source": [
    "import seaborn as sn\n",
    "import pandas as pd\n",
    "import matplotlib.pyplot as plt\n",
    "\n",
    "array = [[ 25,  0,  0,  3,  0],\n",
    " [ 3,  17,  0,  4,  0],\n",
    " [ 0,  0,  19,  0,  0],\n",
    " [ 0,  0,  1,  22,  0],\n",
    " [ 0,  0,  0,  0, 26]]\n",
    "\n",
    "target_names=['Baby cry','Clock alarm','Glass breaking','Tap open','Door Knock']\n",
    "df_cm = pd.DataFrame(array,target_names,target_names)\n",
    "sn.set(font_scale=1.4) \n",
    "sn.heatmap(df_cm, annot=True, annot_kws={\"size\": 12}) \n",
    "\n",
    "plt.show()"
   ]
  },
  {
   "cell_type": "code",
   "execution_count": 18,
   "metadata": {},
   "outputs": [
    {
     "name": "stdout",
     "output_type": "stream",
     "text": [
      "\n",
      "Classification Report\n",
      "\n",
      "                precision    recall  f1-score   support\n",
      "\n",
      "      Baby cry       0.89      0.89      0.89        28\n",
      "   Clock alarm       1.00      0.71      0.83        24\n",
      "Glass breaking       0.95      1.00      0.97        19\n",
      "      Tap open       0.76      0.96      0.85        23\n",
      "    Door Knock       1.00      1.00      1.00        26\n",
      "\n",
      "      accuracy                           0.91       120\n",
      "     macro avg       0.92      0.91      0.91       120\n",
      "  weighted avg       0.92      0.91      0.91       120\n",
      "\n"
     ]
    }
   ],
   "source": [
    "from sklearn.metrics import classification_report\n",
    "print('\\nClassification Report\\n')\n",
    "print(classification_report(y_test, y_pred, target_names=['Baby cry','Clock alarm','Glass breaking','Tap open','Door Knock']))"
   ]
  },
  {
   "cell_type": "code",
   "execution_count": null,
   "metadata": {},
   "outputs": [],
   "source": []
  },
  {
   "cell_type": "code",
   "execution_count": null,
   "metadata": {},
   "outputs": [],
   "source": []
  }
 ],
 "metadata": {
  "kernelspec": {
   "display_name": "Python 3 (ipykernel)",
   "language": "python",
   "name": "python3"
  },
  "language_info": {
   "codemirror_mode": {
    "name": "ipython",
    "version": 3
   },
   "file_extension": ".py",
   "mimetype": "text/x-python",
   "name": "python",
   "nbconvert_exporter": "python",
   "pygments_lexer": "ipython3",
   "version": "3.8.5"
  }
 },
 "nbformat": 4,
 "nbformat_minor": 4
}
